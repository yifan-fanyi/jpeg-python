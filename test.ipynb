{
 "cells": [
  {
   "cell_type": "code",
   "execution_count": 1,
   "metadata": {},
   "outputs": [],
   "source": [
    "import numpy as np\n",
    "import math\n",
    "import cv2\n",
    "\n",
    "from encoder import eJPEG\n",
    "from decoder import dJPEG\n",
    "from evaluate import PSNR"
   ]
  },
  {
   "cell_type": "code",
   "execution_count": 2,
   "metadata": {},
   "outputs": [
    {
     "name": "stdout",
     "output_type": "stream",
     "text": [
      "(512, 512) 512\n",
      "1 27.876103255899956 0.3079872131347656\n"
     ]
    }
   ],
   "source": [
    "def run_(img):\n",
    "    H=512\n",
    "    W=512\n",
    "    name = str(img)\n",
    "    while len(name) < 4:\n",
    "        name = '0'+name \n",
    "    name = '/Users/alex/Desktop/proj/compression/data/DIV2K/'+name+'x2.png'\n",
    "    X = cv2.imread(name, 0)\n",
    "    \n",
    "    eJ = eJPEG(Qf=10, N=8, grayscale=True)\n",
    "    stream = eJ.encode(name)\n",
    "    dJ = dJPEG(H=512, W=512, Qf=10, N=8, grayscale=True)\n",
    "    iX = dJ.decode(stream)\n",
    "    print(X.shape, len(iX))\n",
    "    print(img, PSNR(X, iX), len(stream)/512/512)\n",
    "    \n",
    "for i in range(1, 100):\n",
    "    run_(i)\n",
    "    break"
   ]
  },
  {
   "cell_type": "code",
   "execution_count": null,
   "metadata": {},
   "outputs": [],
   "source": []
  }
 ],
 "metadata": {
  "kernelspec": {
   "display_name": "Python 3",
   "language": "python",
   "name": "python3"
  },
  "language_info": {
   "codemirror_mode": {
    "name": "ipython",
    "version": 3
   },
   "file_extension": ".py",
   "mimetype": "text/x-python",
   "name": "python",
   "nbconvert_exporter": "python",
   "pygments_lexer": "ipython3",
   "version": "3.7.9"
  }
 },
 "nbformat": 4,
 "nbformat_minor": 4
}
